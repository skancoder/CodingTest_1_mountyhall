{
 "cells": [
  {
   "attachments": {},
   "cell_type": "markdown",
   "metadata": {
    "dotnet_interactive": {
     "language": "csharp"
    },
    "polyglot_notebook": {
     "kernelName": "csharp"
    }
   },
   "source": [
    "```\n",
    "Monty Hall problem\n",
    "The Monty Hall is a brain teaser, in the form of a probability puzzle,\n",
    "loosely based on the American television game show Let's Make a Deal\n",
    "and named after its original host, Monty Hall.\n",
    "The concept of the game is that the player sees three closed doors - behind\n",
    "one is a car, and behind the other two are goats. The game starts with the\n",
    "player getting to choose a door, without opening it. Then the presenter\n",
    "opens one of the two remaining doors (but never the one with the car) and\n",
    "shows that this door does not contain profit. The player is then given\n",
    "another choice to change the door.\n",
    "The question is whether the chances of winning increase if the player\n",
    "changes the door.\n",
    "Source: https://en.wikipedia.org/wiki/Monty_Hall_problem\n",
    "\n",
    "Task\n",
    "\n",
    "Build an application that proves the paradox. The application should be able to simulate a given number of games and\n",
    "whether you change the door or not. The technical requirement for the solution is to build an application with a backend of\n",
    "your choice, preferably C#. In the interface you should be able to enter a number of simulations and choose whether or not\n",
    "to change the door. Then be able to press a button that starts the simulation by calling backend that performs the requested\n",
    "number of simulated games. When backend answers then the results of the simulations should be printed. Testing should be\n",
    "included in the assignment.\n"
   ]
  },
  {
   "cell_type": "code",
   "execution_count": 15,
   "metadata": {
    "dotnet_interactive": {
     "language": "csharp"
    },
    "polyglot_notebook": {
     "kernelName": "csharp"
    },
    "vscode": {
     "languageId": "polyglot-notebook"
    }
   },
   "outputs": [
    {
     "name": "stdout",
     "output_type": "stream",
     "text": [
      "Wins: 333698 Losses: 666302  Total: 1000000\r\n"
     ]
    }
   ],
   "source": [
    "Random random = new Random();\n",
    "            int wins   = 0;\n",
    "            int losses = 0;\n",
    "\n",
    "            // iterate our MontyHall routine\n",
    "            for (int i = 0; i < 1000000; i++)\n",
    "            {\n",
    "                // changeDoor: \n",
    "                // 0 = no, the contestant stays with their initial pick,\n",
    "                // after the offer to switch after\n",
    "                // the disclosure of a \"Goat\" door\n",
    "                // 1 = yes, the contestant chose to switch doors after\n",
    "                // the disclosure of a \"Goat\" door\n",
    "                //int changeDoor = 0;\n",
    "                int changeDoor = 0;\n",
    "                \n",
    "                // calculate whether or not the contestant wins the Car -\n",
    "                // random pickedDoor: 0, 1 or 2 for the door\n",
    "                // the contestant initially picked\n",
    "                // changeDoor: 0 = no, 1 = yes. The contentment decides\n",
    "                // to change their selection after disclosure of a \"Goat\" door\n",
    "                // random carDoor: 0, 1 or 2 for the door containing the car\n",
    "                // random goatDoorToRemove: 0 = leftmost Goat door,\n",
    "                // 1 = rightmost Goat door. Monty discloses\n",
    "                // one incorrect door, this value indicates which one.\n",
    "                bool result = MountyHallPick(random.Next(3), changeDoor, \n",
    "                                            random.Next(3), random.Next(1));\n",
    "\n",
    "                if (result) \n",
    "                    wins++;\n",
    "                else\n",
    "                    losses++;\n",
    "            }\n",
    "\n",
    "            Console.WriteLine(\"Wins: {0} Losses: {1}  Total: {2}\", \n",
    "                              wins, losses, wins+losses);\n",
    "            Console.ReadLine();   \n",
    "\n",
    "\n",
    "bool MountyHallPick(int pickedDoor,int changeDoor,int carDoor,int goatDoorToRemove){\n",
    "    bool win=false;\n",
    "    int leftGoat=0;\n",
    "    int rightGoat=2;\n",
    "    switch(pickedDoor){\n",
    "        case 0:\n",
    "            leftGoat=1;rightGoat=2;\n",
    "            break;\n",
    "        case 1:\n",
    "            leftGoat=0;rightGoat=2;\n",
    "            break;\n",
    "        case 2:\n",
    "            leftGoat=0;rightGoat=1;\n",
    "            break;\n",
    "    }\n",
    "\n",
    "\n",
    "   int keepGoat = goatDoorToRemove == 0 ? rightGoat : leftGoat;\n",
    "\n",
    "            // would the contestant win with the switch or the stay?\n",
    "            if (changeDoor == 0)\n",
    "            {\n",
    "                // not changing the initially picked door\n",
    "                win = carDoor == pickedDoor;\n",
    "            }\n",
    "            else\n",
    "            {\n",
    "                // changing picked door to the other door remaining\n",
    "                win = carDoor != keepGoat;\n",
    "            }\n",
    "\n",
    "            return win;\n",
    "}\n"
   ]
  },
  {
   "cell_type": "code",
   "execution_count": null,
   "metadata": {
    "vscode": {
     "languageId": "polyglot-notebook"
    }
   },
   "outputs": [],
   "source": []
  }
 ],
 "metadata": {
  "language_info": {
   "name": "csharp"
  },
  "orig_nbformat": 4
 },
 "nbformat": 4,
 "nbformat_minor": 2
}
